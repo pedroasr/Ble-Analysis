{
 "cells": [
  {
   "cell_type": "code",
   "execution_count": 3,
   "metadata": {},
   "outputs": [
    {
     "name": "stderr",
     "output_type": "stream",
     "text": [
      "100%|██████████| 42/42 [00:05<00:00,  8.37it/s]"
     ]
    },
    {
     "name": "stdout",
     "output_type": "stream",
     "text": [
      "                               Adjusted R-Squared  R-Squared  RMSE  Time Taken\n",
      "Model                                                                         \n",
      "HistGradientBoostingRegressor                0.93       0.94  7.29        0.85\n",
      "LGBMRegressor                                0.93       0.94  7.37        0.09\n",
      "RandomForestRegressor                        0.93       0.93  7.45        0.73\n",
      "ExtraTreesRegressor                          0.93       0.93  7.59        0.46\n",
      "XGBRegressor                                 0.93       0.93  7.73        0.09\n",
      "BaggingRegressor                             0.92       0.92  8.05        0.08\n",
      "GradientBoostingRegressor                    0.92       0.92  8.11        0.29\n",
      "KNeighborsRegressor                          0.91       0.92  8.46        0.03\n",
      "MLPRegressor                                 0.89       0.89  9.62        1.14\n",
      "SVR                                          0.86       0.87 10.56        0.10\n",
      "LarsCV                                       0.86       0.86 10.75        0.03\n",
      "Lasso                                        0.86       0.86 10.79        0.02\n",
      "LassoLarsIC                                  0.85       0.86 10.87        0.02\n",
      "NuSVR                                        0.85       0.86 10.91        0.07\n",
      "OrthogonalMatchingPursuitCV                  0.85       0.86 10.91        0.03\n",
      "ElasticNetCV                                 0.85       0.86 10.95        0.08\n",
      "LassoCV                                      0.85       0.86 10.96        0.06\n",
      "LassoLarsCV                                  0.85       0.86 10.97        0.03\n",
      "BayesianRidge                                0.85       0.86 10.97        0.02\n",
      "RidgeCV                                      0.85       0.86 10.98        0.02\n",
      "Ridge                                        0.85       0.86 10.98        0.02\n",
      "TransformedTargetRegressor                   0.85       0.86 10.99        0.02\n",
      "LinearRegression                             0.85       0.86 10.99        0.02\n",
      "HuberRegressor                               0.85       0.86 11.02        0.04\n",
      "SGDRegressor                                 0.85       0.85 11.09        0.01\n",
      "Lars                                         0.84       0.85 11.17        0.02\n",
      "LinearSVR                                    0.84       0.85 11.23        0.00\n",
      "DecisionTreeRegressor                        0.83       0.84 11.63        0.02\n",
      "RANSACRegressor                              0.83       0.84 11.71        0.05\n",
      "OrthogonalMatchingPursuit                    0.83       0.84 11.72        0.00\n",
      "ElasticNet                                   0.83       0.83 11.83        0.00\n",
      "GeneralizedLinearRegressor                   0.81       0.82 12.30        0.02\n",
      "TweedieRegressor                             0.81       0.82 12.30        0.00\n",
      "AdaBoostRegressor                            0.81       0.82 12.36        0.17\n",
      "ExtraTreeRegressor                           0.80       0.81 12.61        0.02\n",
      "PassiveAggressiveRegressor                   0.77       0.78 13.48        0.02\n",
      "PoissonRegressor                             0.69       0.70 15.79        0.02\n",
      "GaussianProcessRegressor                     0.66       0.68 16.45        0.22\n",
      "DummyRegressor                              -0.05      -0.00 29.07        0.02\n",
      "LassoLars                                   -0.05      -0.00 29.07        0.02\n",
      "KernelRidge                                 -1.36      -1.26 43.61        0.09\n"
     ]
    },
    {
     "name": "stderr",
     "output_type": "stream",
     "text": [
      "\n"
     ]
    }
   ],
   "source": [
    "import pandas as pd\n",
    "from lazypredict.Supervised import LazyRegressor\n",
    "from sklearn.model_selection import train_test_split\n",
    "import warnings\n",
    "\n",
    "warnings.filterwarnings(\"ignore\")\n",
    "\n",
    "trainingSet = pd.read_csv(\"docs/filled-training-set.csv\", sep=\";\")\n",
    "\n",
    "x = trainingSet.loc[:, (trainingSet.columns != \"Timestamp\") & (trainingSet.columns != \"Person Count\")]\n",
    "y = trainingSet[\"Person Count\"]\n",
    "\n",
    "X_train, X_test, y_train, y_test = train_test_split(x, y, test_size=0.2, random_state=288)\n",
    "\n",
    "reg = LazyRegressor(verbose=0, ignore_warnings=True, custom_metric=None)\n",
    "models, predictions = reg.fit(X_train, X_test, y_train, y_test)\n",
    "\n",
    "print(models)\n"
   ]
  }
 ],
 "metadata": {
  "kernelspec": {
   "display_name": "Python 3 (ipykernel)",
   "language": "python",
   "name": "python3"
  },
  "language_info": {
   "codemirror_mode": {
    "name": "ipython",
    "version": 3
   },
   "file_extension": ".py",
   "mimetype": "text/x-python",
   "name": "python",
   "nbconvert_exporter": "python",
   "pygments_lexer": "ipython3",
   "version": "3.8.13"
  }
 },
 "nbformat": 4,
 "nbformat_minor": 1
}
