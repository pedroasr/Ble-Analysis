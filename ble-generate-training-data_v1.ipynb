{
 "cells": [
  {
   "cell_type": "markdown",
   "metadata": {},
   "source": [
    "# Construcción del conjunto de datos\n",
    "\n",
    "## Introducción\n",
    "\n",
    "Tras el análisis previo realizado en el notebook *ble-analysis-filter-clean_v3*, llega el momento de preparar un conjunto con los datos más relevantes de cara a entrenar un algoritmo de Machine Learning capaz de utilizar dichos datos para ser capaz de predecir el número de personas que dentro de la biblioteca.\n",
    "\n",
    "Algunos de los datos de interés son:\n",
    "\n",
    "- El intervalo de tiempo (Timestamp)\n",
    "- Número de dispositivos totales\n",
    "- Número de dispositivos por Raspberry\n",
    "- Número de dispositivos por pareja de Raspberry\n",
    "- Número de dispositivos dentro de unos rangos de mensajes por Raspberry\n",
    "- Número de dispositivos existentes en el intervalo de tiempo anterior\n",
    "- Número de dispositivos existentes en los dos intervalos de tiempo anteriores"
   ]
  },
  {
   "cell_type": "code",
   "execution_count": 1,
   "metadata": {
    "collapsed": true
   },
   "outputs": [],
   "source": [
    "#from google.colab import drive\n",
    "#drive.mount('/content/drive')"
   ]
  },
  {
   "cell_type": "code",
   "execution_count": 2,
   "metadata": {},
   "outputs": [],
   "source": [
    "import os\n",
    "import pathlib\n",
    "import pandas as pd\n",
    "pd.options.mode.chained_assignment = None\n",
    "import numpy as np\n",
    "import matplotlib.pyplot as plt"
   ]
  },
  {
   "cell_type": "code",
   "execution_count": 8,
   "metadata": {},
   "outputs": [],
   "source": [
    "def transformTimestampPersonCount(personCount):\n",
    "    \"\"\"Función que transforma los campos Fecha y Hora del conjunto de dato proporcionado por el contador de personas a un Timestamp usable\"\"\"\n",
    "\n",
    "    timestamp = []\n",
    "    for i in range(len(personCount)):\n",
    "        timestamp.append(personCount['Fecha'][i] + ' ' + personCount['Hora'][i])\n",
    "    personCount[\"Timestamp\"] = pd.to_datetime(timestamp, dayfirst=True)\n",
    "\n",
    "    return personCount\n",
    "\n",
    "def parseData(time, data):\n",
    "    \"\"\"Función que recibe un Dataframe con datos BLE agrupados y devuelve un Dataframe con las mismas columnas, pero con el Timestamp completo\"\"\"\n",
    "\n",
    "    columns = data.columns.values\n",
    "    columnsFull = np.append(columns, \"Timestamp\")\n",
    "    fullData = pd.DataFrame(columns=columns)\n",
    "    for i in range(len(time)):\n",
    "        if len(data.loc[data.index == time[i]]) == 0:\n",
    "            if i == 0:\n",
    "                nans = np.empty(len(columns))\n",
    "                nans[:] = np.nan\n",
    "                df = pd.DataFrame([nans], columns=columns)\n",
    "                df[\"Timestamp\"] = time[i]\n",
    "                fullData = pd.concat([fullData, df])\n",
    "            elif i == len(time)-1:\n",
    "                df = pd.DataFrame(data.loc[data.index == time[i-1]].values, columns=columns)\n",
    "                df[\"Timestamp\"] = time[i]\n",
    "                fullData = pd.concat([fullData, df])\n",
    "            else:\n",
    "                if len(data.loc[data.index == time[i+1]]) == 0:\n",
    "                    df = pd.DataFrame(fullData.loc[fullData.Timestamp == time[i-1]].values, columns=columnsFull)\n",
    "                else:\n",
    "                    dataPre = fullData.loc[fullData.Timestamp == time[i-1]]\n",
    "                    dataPre = dataPre.loc[:, dataPre.columns != \"Timestamp\"].values[0]\n",
    "                    dataPost = data.loc[data.index == time[i+1]].values[0]\n",
    "                    array = np.array([dataPre, dataPost], dtype=object)\n",
    "                    try:\n",
    "                        row = np.mean(array, axis=0).astype(int)\n",
    "                    except:\n",
    "                        row = np.empty((len(columns)))\n",
    "                        row[:] = np.nan\n",
    "                    df = pd.DataFrame([row], columns=columns)\n",
    "                df[\"Timestamp\"] = time[i]\n",
    "                fullData = pd.concat([fullData, df])\n",
    "        else:\n",
    "            df = pd.DataFrame(data.loc[data.index == time[i]].values, columns=columns)\n",
    "            df[\"Timestamp\"] = time[i]\n",
    "            fullData = pd.concat([fullData, df])\n",
    "    fullData.set_index(\"Timestamp\", inplace=True)\n",
    "\n",
    "    return fullData\n",
    "\n",
    "def parsePersonCount(time, personCount, initHour='8:00:00', endHour='21:00:00'):\n",
    "    \"\"\"Función que devuelve un Dataframe con una columna Timestamp y otra columna con el número de personas detectadas por el contador de personas\"\"\"\n",
    "\n",
    "    zeroList = pd.Series(np.zeros(len(time)))\n",
    "    fullPersonCountInterval = pd.DataFrame({'Timestamp': pd.to_datetime(time), 'personCount': zeroList})\n",
    "    date = fullPersonCountInterval[\"Timestamp\"][0].strftime('%Y-%m-%d')\n",
    "    initHour = date+\" \"+initHour\n",
    "    endHour = date+\" \"+endHour\n",
    "    personCountInterval = personCount.groupby(pd.Grouper(key='Timestamp', freq='5T'))[\"Estimación nº Personas\"].last()\n",
    "    personCountInterval = personCountInterval.loc[initHour:endHour]\n",
    "    booleanPersonCountInterval = personCountInterval.isna()\n",
    "\n",
    "    for i in range(len(personCountInterval)):\n",
    "        if booleanPersonCountInterval[i]:\n",
    "            personCountInterval[i] = personCountInterval[i-1]\n",
    "\n",
    "    for i in range(len(time)):\n",
    "        if len(personCountInterval.loc[personCountInterval.index == fullPersonCountInterval[\"Timestamp\"][i]]) != 0:\n",
    "            if personCountInterval.loc[personCountInterval.index == fullPersonCountInterval[\"Timestamp\"][i]][0] < 0:\n",
    "                fullPersonCountInterval[\"personCount\"][i] = 0\n",
    "            else:\n",
    "                nPeople = personCountInterval.loc[personCountInterval.index == fullPersonCountInterval[\"Timestamp\"][i]][0]\n",
    "                fullPersonCountInterval[\"personCount\"][i] = int(nPeople)\n",
    "\n",
    "    return fullPersonCountInterval\n",
    "\n",
    "def generateTimeSeriesByHour(data, initHour='7:00:00', endHour='21:55:00'):\n",
    "    \"\"\"Función que devuelve una Serie con un Timestamp espaciado en intervalos de 5 minutos dada una hora de comienzo y de fin\"\"\"\n",
    "    date =  data[\"Timestamp\"][0].date()\n",
    "    start = str(date) + \" \" + initHour\n",
    "    end = str(date) + \" \" + endHour\n",
    "    timeSeries = pd.Series(pd.date_range(start, end, freq='5T'))\n",
    "\n",
    "    return timeSeries\n",
    "\n",
    "def readDataFromDirectory(dataPath, fullPersonCountPath):\n",
    "    \"\"\"Función que lee los archivos de datos de los receptores Bluetooth y del contador de personas y los concentra en un array\"\"\"\n",
    "\n",
    "    dataArray = []\n",
    "    fullPersonCountIntervalArray = []\n",
    "    dates = []\n",
    "    contentPersonCountDirectory = os.listdir(fullPersonCountPath)\n",
    "    dataPath = pathlib.Path(dataPath)\n",
    "    for file in dataPath.iterdir():\n",
    "        data = pd.read_csv(file, sep=';')\n",
    "        data[\"Timestamp int.\"] = pd.to_datetime(data[\"Timestamp int.\"], dayfirst=True)\n",
    "        data = data.rename(columns={\"Timestamp int.\": \"Timestamp\"})\n",
    "        dataArray.append(data)\n",
    "        dates.append(data[\"Timestamp\"].dt.date[0])\n",
    "\n",
    "    for file in range(len(contentPersonCountDirectory)):\n",
    "        personCount = pd.read_csv(fullPersonCountPath+contentPersonCountDirectory[file], sep=';')\n",
    "        personCount = transformTimestampPersonCount(personCount)\n",
    "        time = generateTimeSeriesByHour(dataArray[file])\n",
    "        fullPersonCount = parsePersonCount(time, personCount)\n",
    "        fullPersonCountIntervalArray.append(fullPersonCount)\n",
    "\n",
    "    return dataArray, fullPersonCountIntervalArray, dates\n",
    "\n",
    "def parseDataByRaspberry(data):\n",
    "    \"\"\"Función que devuelve un conjunto de datos filtrado por cada Raspberry. Devuelve un conjunto por Raspberry.\n",
    "    Se le puede indicar usar todo el conjunto o solamente las MAC Random\"\"\"\n",
    "\n",
    "    dataInterval1 = data.loc[data['Raspberry'] == 'Raspberry A']\n",
    "    dataInterval2 = data.loc[data['Raspberry'] == 'Raspberry B']\n",
    "    dataInterval3 = data.loc[data['Raspberry'] == 'Raspberry C']\n",
    "    dataInterval4 = data.loc[data['Raspberry'] == 'Raspberry D']\n",
    "    dataInterval5 = data.loc[data['Raspberry'] == 'Raspberry E']\n",
    "\n",
    "    return dataInterval1, dataInterval2, dataInterval3, dataInterval4, dataInterval5\n",
    "\n",
    "def parseDataByRaspberryTime(data):\n",
    "    \"\"\"Función que devuelve conjuntos de datos con valores únicos filtrados por Raspberry y agrupados por Timestamp\"\"\"\n",
    "\n",
    "    dataInterval1, dataInterval2, dataInterval3, dataInterval4, dataInterval5 = parseDataByRaspberry(data)\n",
    "    dataInterval1 = dataInterval1.groupby('Timestamp').nunique()\n",
    "    dataInterval2 = dataInterval2.groupby('Timestamp').nunique()\n",
    "    dataInterval3 = dataInterval3.groupby('Timestamp').nunique()\n",
    "    dataInterval4 = dataInterval4.groupby('Timestamp').nunique()\n",
    "    dataInterval5 = dataInterval5.groupby('Timestamp').nunique()\n",
    "\n",
    "    return dataInterval1, dataInterval2, dataInterval3, dataInterval4, dataInterval5\n",
    "\n",
    "def getTotalDevicesByRaspberry(data, timeSeries):\n",
    "    \"\"\"Función que devuelve conjuntos de datos con el número de dispositivos únicos filtrados por Raspberry y agrupados por Timestamp\"\"\"\n",
    "\n",
    "    totalMACRA = np.empty(len(timeSeries))\n",
    "    totalMACRB = np.empty(len(timeSeries))\n",
    "    totalMACRC = np.empty(len(timeSeries))\n",
    "    totalMACRD = np.empty(len(timeSeries))\n",
    "    totalMACRE = np.empty(len(timeSeries))\n",
    "\n",
    "    dataInterval1, dataInterval2, dataInterval3, dataInterval4, dataInterval5 = parseDataByRaspberryTime(data)\n",
    "\n",
    "    timestamp = np.transpose(data[\"Timestamp\"].dt.strftime('%Y-%m-%d %H:%M:%S').unique())\n",
    "    dataframe = pd.DataFrame(pd.to_datetime(timestamp))\n",
    "\n",
    "    for i in range(len(timeSeries)):\n",
    "        if len(dataframe.loc[dataframe[0] == timeSeries[i]]) == 0:\n",
    "            totalMACRA[i] = np.nan\n",
    "            totalMACRB[i] = np.nan\n",
    "            totalMACRC[i] = np.nan\n",
    "            totalMACRD[i] = np.nan\n",
    "            totalMACRE[i] = np.nan\n",
    "        else:\n",
    "            try:\n",
    "                group = dataInterval1.loc[timeSeries[i]]\n",
    "                totalMACRA[i] = group[\"MAC\"]\n",
    "            except:\n",
    "                totalMACRA[i] = 0\n",
    "\n",
    "            try:\n",
    "                group = dataInterval2.loc[timeSeries[i]]\n",
    "                totalMACRB[i] = group[\"MAC\"]\n",
    "            except:\n",
    "                totalMACRB[i] = 0\n",
    "\n",
    "            try:\n",
    "                group = dataInterval3.loc[timeSeries[i]]\n",
    "                totalMACRC[i] = group[\"MAC\"]\n",
    "            except:\n",
    "                totalMACRC[i] = 0\n",
    "\n",
    "            try:\n",
    "                group = dataInterval4.loc[timeSeries[i]]\n",
    "                totalMACRD[i] = group[\"MAC\"]\n",
    "            except:\n",
    "                totalMACRD[i] = 0\n",
    "\n",
    "            try:\n",
    "                group = dataInterval5.loc[timeSeries[i]]\n",
    "                totalMACRE[i] = group[\"MAC\"]\n",
    "            except:\n",
    "                totalMACRE[i] = 0\n",
    "\n",
    "    return totalMACRA, totalMACRB, totalMACRC, totalMACRD, totalMACRE\n",
    "\n",
    "def getTotalDevicesByPairRaspberries(data, timeSeries):\n",
    "    \"\"\"Función que devuelve cuatro listas compuestas por los dispositivos captados en el mismo intervalo de tiempo por las parejas C-E, D-E, B-E y el trio C-D-E\"\"\"\n",
    "\n",
    "    totalMACRDE = np.empty(len(timeSeries))\n",
    "    totalMACRCE = np.empty(len(timeSeries))\n",
    "    totalMACRCDE = np.empty(len(timeSeries))\n",
    "    totalMACRBE = np.empty(len(timeSeries))\n",
    "\n",
    "    dataInterval1, dataInterval2, dataInterval3, dataInterval4, dataInterval5 = parseDataByRaspberry(data)\n",
    "\n",
    "    nDevicesIntervalDataRaspberryAMerge = dataInterval1[[\"Timestamp\", \"Raspberry\", \"MAC\"]]\n",
    "    nDevicesIntervalDataRaspberryBMerge = dataInterval2[[\"Timestamp\", \"Raspberry\", \"MAC\"]]\n",
    "    nDevicesIntervalDataRaspberryCMerge = dataInterval3[[\"Timestamp\", \"Raspberry\", \"MAC\"]]\n",
    "    nDevicesIntervalDataRaspberryDMerge = dataInterval4[[\"Timestamp\", \"Raspberry\", \"MAC\"]]\n",
    "    nDevicesIntervalDataRaspberryEMerge = dataInterval5[[\"Timestamp\", \"Raspberry\", \"MAC\"]]\n",
    "\n",
    "    nDevicesIntervalDataRaspberryDEMerge = nDevicesIntervalDataRaspberryDMerge.merge(nDevicesIntervalDataRaspberryEMerge, how='outer', on=(\"Timestamp\", \"MAC\"), copy=False, suffixes=(\"_d\", \"_e\"))\n",
    "    nDevicesIntervalDataRaspberryCDEMerge = nDevicesIntervalDataRaspberryDEMerge.merge(nDevicesIntervalDataRaspberryCMerge, how='outer', on=(\"Timestamp\", \"MAC\"), copy=False)\n",
    "    nDevicesIntervalDataRaspberryBCDEMerge = nDevicesIntervalDataRaspberryCDEMerge.merge(nDevicesIntervalDataRaspberryBMerge, how='outer', on=(\"Timestamp\", \"MAC\"), copy=False, suffixes=(\"_c\", \"_b\"))\n",
    "    nDevicesIntervalDataRaspberryABCDEMerge = nDevicesIntervalDataRaspberryBCDEMerge.merge(nDevicesIntervalDataRaspberryAMerge, how='outer', on=(\"Timestamp\", \"MAC\"), copy=False)\n",
    "\n",
    "    timestamp = np.transpose(data[\"Timestamp\"].dt.strftime('%Y-%m-%d %H:%M:%S').unique())\n",
    "    dataframe = pd.DataFrame(pd.to_datetime(timestamp))\n",
    "\n",
    "    for i in range(len(timeSeries)):\n",
    "        if len(dataframe.loc[dataframe[0] == timeSeries[i]]) == 0:\n",
    "            totalMACRDE[i] = np.nan\n",
    "            totalMACRCE[i] = np.nan\n",
    "            totalMACRCDE[i] = np.nan\n",
    "            totalMACRBE[i] = np.nan\n",
    "        else:\n",
    "            group = nDevicesIntervalDataRaspberryABCDEMerge.loc[nDevicesIntervalDataRaspberryABCDEMerge[\"Timestamp\"] == timeSeries[i]]\n",
    "            group = group.groupby([\"Timestamp\", \"MAC\"]).nunique()\n",
    "            total_CE, total_DE, total_CDE, total_BE = 0, 0, 0, 0\n",
    "\n",
    "            for j in range(len(group)):\n",
    "                if group[\"Raspberry_c\"][j] == 1 and group[\"Raspberry_d\"][j] == 1 and group[\"Raspberry_e\"][j] == 1:\n",
    "                    total_CDE = total_CDE + 1\n",
    "                elif group[\"Raspberry_c\"][j] == 1 and group[\"Raspberry_e\"][j] == 1:\n",
    "                    total_CE = total_CE + 1\n",
    "                elif group[\"Raspberry_d\"][j] == 1 and group[\"Raspberry_e\"][j] == 1:\n",
    "                    total_DE = total_DE + 1\n",
    "                elif group[\"Raspberry_b\"][j] == 1 and group[\"Raspberry_e\"][j] == 1:\n",
    "                    total_BE = total_BE + 1\n",
    "            totalMACRDE[i], totalMACRCE[i], totalMACRCDE[i], totalMACRBE[i] = total_DE, total_CE, total_CDE, total_BE\n",
    "\n",
    "    return totalMACRDE, totalMACRCE, totalMACRCDE, totalMACRBE\n",
    "\n",
    "def getTotalDeviceByMessageNumber(data, timeSeries):\n",
    "    \"\"\"Función que devuelve tres listas por Raspberry, una por intervalo cada intervalo de número de mensajes por debajo de 10, entre 10 y 30 y superior a 30\"\"\"\n",
    "\n",
    "    totalMACRA_10 = np.empty(len(timeSeries))\n",
    "    totalMACRA_1030 = np.empty(len(timeSeries))\n",
    "    totalMACRA_30 = np.empty(len(timeSeries))\n",
    "    totalMACRB_10 = np.empty(len(timeSeries))\n",
    "    totalMACRB_1030 = np.empty(len(timeSeries))\n",
    "    totalMACRB_30 = np.empty(len(timeSeries))\n",
    "    totalMACRC_10 = np.empty(len(timeSeries))\n",
    "    totalMACRC_1030 = np.empty(len(timeSeries))\n",
    "    totalMACRC_30 = np.empty(len(timeSeries))\n",
    "    totalMACRD_10 = np.empty(len(timeSeries))\n",
    "    totalMACRD_1030 = np.empty(len(timeSeries))\n",
    "    totalMACRD_30 = np.empty(len(timeSeries))\n",
    "    totalMACRE_10 = np.empty(len(timeSeries))\n",
    "    totalMACRE_1030 = np.empty(len(timeSeries))\n",
    "    totalMACRE_30 = np.empty(len(timeSeries))\n",
    "\n",
    "    dataInterval1, dataInterval2, dataInterval3, dataInterval4, dataInterval5 = parseDataByRaspberry(data)\n",
    "\n",
    "    timestamp = np.transpose(data[\"Timestamp\"].dt.strftime('%Y-%m-%d %H:%M:%S').unique())\n",
    "    dataframe = pd.DataFrame(pd.to_datetime(timestamp))\n",
    "\n",
    "    dataInterval1 = dataInterval1.groupby([\"Timestamp\", \"MAC\"]).sum()\n",
    "    dataInterval2 = dataInterval2.groupby([\"Timestamp\", \"MAC\"]).sum()\n",
    "    dataInterval3 = dataInterval3.groupby([\"Timestamp\", \"MAC\"]).sum()\n",
    "    dataInterval4 = dataInterval4.groupby([\"Timestamp\", \"MAC\"]).sum()\n",
    "    dataInterval5 = dataInterval5.groupby([\"Timestamp\", \"MAC\"]).sum()\n",
    "\n",
    "    for i in range(len(timeSeries)):\n",
    "        if len(dataframe.loc[dataframe[0] == timeSeries[i]]) == 0:\n",
    "            totalMACRA_10[i] = np.nan\n",
    "            totalMACRA_1030[i] = np.nan\n",
    "            totalMACRA_30[i] = np.nan\n",
    "            totalMACRB_10[i] = np.nan\n",
    "            totalMACRB_1030[i] = np.nan\n",
    "            totalMACRB_30[i] = np.nan\n",
    "            totalMACRC_10[i] = np.nan\n",
    "            totalMACRC_1030[i] = np.nan\n",
    "            totalMACRC_30[i] = np.nan\n",
    "            totalMACRD_10[i] = np.nan\n",
    "            totalMACRD_1030[i] = np.nan\n",
    "            totalMACRD_30[i] = np.nan\n",
    "            totalMACRE_10[i] = np.nan\n",
    "            totalMACRE_1030[i] = np.nan\n",
    "            totalMACRE_30[i] = np.nan\n",
    "        else:\n",
    "            try:\n",
    "                group = dataInterval1.loc[timeSeries[i]]\n",
    "                totalMACRA_10[i] = len(group.loc[group[\"Nº Mensajes\"] <= 10])\n",
    "                totalMACRA_1030[i] = len(group.loc[(group[\"Nº Mensajes\"] > 10) & (group[\"Nº Mensajes\"] <= 30)])\n",
    "                totalMACRA_30[i] = len(group.loc[group[\"Nº Mensajes\"] > 30])\n",
    "            except:\n",
    "                totalMACRA_10[i] = 0\n",
    "                totalMACRA_1030[i] = 0\n",
    "                totalMACRA_30[i] = 0\n",
    "\n",
    "            try:\n",
    "                group = dataInterval2.loc[timeSeries[i]]\n",
    "                totalMACRB_10[i] = len(group.loc[group[\"Nº Mensajes\"] <= 10])\n",
    "                totalMACRB_1030[i] = len(group.loc[(group[\"Nº Mensajes\"] > 10) & (group[\"Nº Mensajes\"] <= 30)])\n",
    "                totalMACRB_30[i] = len(group.loc[group[\"Nº Mensajes\"] > 30])\n",
    "            except:\n",
    "                totalMACRB_10[i] = 0\n",
    "                totalMACRB_1030[i] = 0\n",
    "                totalMACRB_30[i] = 0\n",
    "\n",
    "            try:\n",
    "                group = dataInterval3.loc[timeSeries[i]]\n",
    "                totalMACRC_10[i] = len(group.loc[group[\"Nº Mensajes\"] <= 10])\n",
    "                totalMACRC_1030[i] = len(group.loc[(group[\"Nº Mensajes\"] > 10) & (group[\"Nº Mensajes\"] <= 30)])\n",
    "                totalMACRC_30[i] = len(group.loc[group[\"Nº Mensajes\"] > 30])\n",
    "            except:\n",
    "                totalMACRC_10[i] = 0\n",
    "                totalMACRC_1030[i] = 0\n",
    "                totalMACRC_30[i] = 0\n",
    "\n",
    "            try:\n",
    "                group = dataInterval4.loc[timeSeries[i]]\n",
    "                totalMACRD_10[i] = len(group.loc[group[\"Nº Mensajes\"] <= 10])\n",
    "                totalMACRD_1030[i] = len(group.loc[(group[\"Nº Mensajes\"] > 10) & (group[\"Nº Mensajes\"] <= 30)])\n",
    "                totalMACRD_30[i] = len(group.loc[group[\"Nº Mensajes\"] > 30])\n",
    "            except:\n",
    "                totalMACRD_10[i] = 0\n",
    "                totalMACRD_1030[i] = 0\n",
    "                totalMACRD_30[i] = 0\n",
    "\n",
    "            try:\n",
    "                group = dataInterval5.loc[timeSeries[i]]\n",
    "                totalMACRE_10[i] = len(group.loc[group[\"Nº Mensajes\"] <= 10])\n",
    "                totalMACRE_1030[i] = len(group.loc[(group[\"Nº Mensajes\"] > 10) & (group[\"Nº Mensajes\"] <= 30)])\n",
    "                totalMACRE_30[i] = len(group.loc[group[\"Nº Mensajes\"] > 30])\n",
    "            except:\n",
    "                totalMACRE_10[i] = 0\n",
    "                totalMACRE_1030[i] = 0\n",
    "                totalMACRE_30[i] = 0\n",
    "\n",
    "    return totalMACRA_10, totalMACRA_1030, totalMACRA_30, totalMACRB_10, totalMACRB_1030, totalMACRB_30, totalMACRC_10, totalMACRC_1030, totalMACRC_30, totalMACRD_10, totalMACRD_1030, totalMACRD_30, totalMACRE_10, totalMACRE_1030, totalMACRE_30\n",
    "\n",
    "def getTotalDevicesInPreviousInterval(data, timeSeries):\n",
    "    \"\"\"Función que devuelve una lista con el número de dispositivos registrados en el intervalo de tiempo actual y el anterior\"\"\"\n",
    "\n",
    "    totalMACPreviousInterval = np.empty(len(timeSeries))\n",
    "\n",
    "    timestamp = np.transpose(data[\"Timestamp\"].dt.strftime('%Y-%m-%d %H:%M:%S').unique())\n",
    "    dataframe = pd.DataFrame(pd.to_datetime(timestamp))\n",
    "\n",
    "    for i in range(len(timeSeries)):\n",
    "        if len(dataframe.loc[dataframe[0] == timeSeries[i]]) == 0:\n",
    "            totalMACPreviousInterval[i] = np.nan\n",
    "        else:\n",
    "            if i == 0:\n",
    "                totalMACPreviousInterval[i] = 0\n",
    "            else:\n",
    "                group = data.loc[data[\"Timestamp\"] == timeSeries[i]]\n",
    "                groupToCheck = data.loc[data[\"Timestamp\"] == timeSeries[i-1]]\n",
    "                group.reset_index(inplace=True)\n",
    "                groupToCheck.reset_index(inplace=True)\n",
    "                count = 0\n",
    "                uniqueMAC = group[\"MAC\"].unique()\n",
    "                for mac in uniqueMAC:\n",
    "                    if len(groupToCheck.loc[groupToCheck[\"MAC\"] == mac]) != 0:\n",
    "                        count = count + 1\n",
    "                totalMACPreviousInterval[i] = count\n",
    "\n",
    "    return totalMACPreviousInterval\n",
    "\n",
    "def getTotalDevicesInTwoPreviousIntervals(data, timeSeries):\n",
    "    \"\"\"Función que devuelve una lista con el número de dispositivos registrados en el intervalo de tiempo actual y los dos anteriores\"\"\"\n",
    "\n",
    "    totalMACTwoPreviousInterval = np.empty(len(timeSeries))\n",
    "\n",
    "    timestamp = np.transpose(data[\"Timestamp\"].dt.strftime('%Y-%m-%d %H:%M:%S').unique())\n",
    "    dataframe = pd.DataFrame(pd.to_datetime(timestamp))\n",
    "\n",
    "    for i in range(len(timeSeries)):\n",
    "        if len(dataframe.loc[dataframe[0] == timeSeries[i]]) == 0:\n",
    "            totalMACTwoPreviousInterval[i] = np.nan\n",
    "        else:\n",
    "            if i == 0 or i == 1:\n",
    "                totalMACTwoPreviousInterval[i] = 0\n",
    "            else:\n",
    "                group = data.loc[data[\"Timestamp\"] == timeSeries[i]]\n",
    "                groupToCheck = data.loc[data[\"Timestamp\"] == timeSeries[i-1]]\n",
    "                groupToCheckPrevious = data.loc[data[\"Timestamp\"] == timeSeries[i-2]]\n",
    "                group.reset_index(inplace=True)\n",
    "                groupToCheck.reset_index(inplace=True)\n",
    "                groupToCheckPrevious.reset_index(inplace=True)\n",
    "                uniqueMAC = group[\"MAC\"].unique()\n",
    "                count = 0\n",
    "                for mac in uniqueMAC:\n",
    "                    if len(groupToCheck.loc[groupToCheck[\"MAC\"] == mac]) != 0 and len(groupToCheckPrevious.loc[groupToCheckPrevious[\"MAC\"] == mac]) != 0:\n",
    "                        count = count + 1\n",
    "                totalMACTwoPreviousInterval[i] = count\n",
    "\n",
    "    return totalMACTwoPreviousInterval\n",
    "\n",
    "def savePlotColumns(dataArray, columnsName, path=\"figures/\", path2=\"figuresDate/\"):\n",
    "    \"\"\"Función que guarda en una carpeta las gráficas para cada una de las columnas del training set\"\"\"\n",
    "\n",
    "    for i in range(2, len(dataArray)):\n",
    "        timestamp = pd.to_datetime(dataArray[0])\n",
    "        date = timestamp[0].date().strftime('%Y-%m-%d')\n",
    "        name = columnsName[i]+\"_\"+date\n",
    "        nameDate = date+\"_\"+columnsName[i]\n",
    "        plt.figure(figsize=(10,6))\n",
    "        plt.plot(timestamp, dataArray[1], label=columnsName[1], color=\"red\")\n",
    "        plt.plot(timestamp, dataArray[i], label=columnsName[i], color=\"blue\")\n",
    "        plt.xlabel(\"Timestamp\")\n",
    "        plt.ylabel(\"Devices\")\n",
    "        plt.legend()\n",
    "        plt.title(name)\n",
    "        plt.savefig(path+name+'.jpg')\n",
    "        plt.title(nameDate)\n",
    "        plt.savefig(path2+nameDate+'.jpg')\n",
    "        plt.clf()\n",
    "        plt.close()\n",
    "\n",
    "def getTrainingDataset(dataArray, fullPersonCountIntervalArray, previous=True):\n",
    "    \"\"\"Función que devuelve un conjunto de datos para el algoritmo de Machine Learning\"\"\"\n",
    "\n",
    "    columns = [\"Timestamp\", \"Person Count\", \"N MAC TOTAL\", \"N MAC RA\", \"N MAC RB\", \"N MAC RC\", \"N MAC RD\", \"N MAC RE\", \"N MAC RDE\", \"N MAC RCE\", \"N MAC RCDE\", \"N MAC RBE\", \"N MAC MEN RA 10\", \"N MAC MEN RA 10-30\", \"N MAC MEN RA 30\", \"N MAC MEN RB 10\", \"N MAC MEN RB 10-30\", \"N MAC MEN RB 30\", \"N MAC MEN RC 10\", \"N MAC MEN RC 10-30\", \"N MAC MEN RC 30\", \"N MAC MEN RD 10\", \"N MAC MEN RD 10-30\", \"N MAC MEN RD 30\", \"N MAC MEN RE 10\", \"N MAC MEN RE 10-30\", \"N MAC MEN RE 30\", \"N MAC INTERVALO ANTERIOR\"]\n",
    "\n",
    "    if previous:\n",
    "        columns.append(\"N MAC DOS INTERVALOS ANTERIORES\")\n",
    "\n",
    "    trainingDataset = pd.DataFrame(columns=columns)\n",
    "\n",
    "    for i in range(len(dataArray)):\n",
    "        timeSeries = generateTimeSeriesByHour(dataArray[i])\n",
    "        dataGroup = dataArray[i].groupby(\"Timestamp\").nunique()\n",
    "        dataGroup = parseData(timeSeries, dataGroup)\n",
    "        totalMAC = dataGroup[\"MAC\"].values\n",
    "\n",
    "        totalMACRA, totalMACRB, totalMACRC, totalMACRD, totalMACRE = getTotalDevicesByRaspberry(dataArray[i], timeSeries)\n",
    "\n",
    "        totalMACRDE, totalMACRCE, totalMACRCDE, totalMACRBE = getTotalDevicesByPairRaspberries(dataArray[i], timeSeries)\n",
    "\n",
    "        totalMACRA_10, totalMACRA_1030, totalMACRA_30, totalMACRB_10, totalMACRB_1030, totalMACRB_30, totalMACRC_10, totalMACRC_1030, totalMACRC_30, totalMACRD_10, totalMACRD_1030, totalMACRD_30, totalMACRE_10, totalMACRE_1030, totalMACRE_30 = getTotalDeviceByMessageNumber(dataArray[i], timeSeries)\n",
    "\n",
    "        totalMACPreviousInterval = getTotalDevicesInPreviousInterval(dataArray[i], timeSeries)\n",
    "\n",
    "        timestamp = timeSeries.dt.strftime('%Y-%m-%d %H:%M:%S')\n",
    "\n",
    "        if previous:\n",
    "            totalMACTwoPreviousInterval = getTotalDevicesInTwoPreviousIntervals(dataArray[i], timeSeries)\n",
    "\n",
    "            data = [timestamp.values, fullPersonCountIntervalArray[i][\"personCount\"].values, totalMAC, totalMACRA, totalMACRB, totalMACRC, totalMACRD, totalMACRE, totalMACRDE, totalMACRCE, totalMACRCDE, totalMACRBE, totalMACRA_10, totalMACRA_1030, totalMACRA_30, totalMACRB_10, totalMACRB_1030, totalMACRB_30, totalMACRC_10, totalMACRC_1030, totalMACRC_30, totalMACRD_10, totalMACRD_1030, totalMACRD_30, totalMACRE_10, totalMACRE_1030, totalMACRE_30, totalMACPreviousInterval, totalMACTwoPreviousInterval]\n",
    "            savePlotColumns(data, columns)\n",
    "            data = np.transpose(data)\n",
    "\n",
    "        else:\n",
    "            data = [timestamp.values, fullPersonCountIntervalArray[i][\"personCount\"].values, totalMAC, totalMACRA, totalMACRB, totalMACRC, totalMACRD, totalMACRE, totalMACRDE, totalMACRCE, totalMACRCDE, totalMACRBE, totalMACRA_10, totalMACRA_1030, totalMACRA_30, totalMACRB_10, totalMACRB_1030, totalMACRB_30, totalMACRC_10, totalMACRC_1030, totalMACRC_30, totalMACRD_10, totalMACRD_1030, totalMACRD_30, totalMACRE_10, totalMACRE_1030, totalMACRE_30, totalMACPreviousInterval]\n",
    "            savePlotColumns(data, columns)\n",
    "            data = np.transpose(data)\n",
    "\n",
    "        df = pd.DataFrame(data, columns=columns)\n",
    "        trainingDataset = pd.concat([trainingDataset, df], ignore_index=True)\n",
    "\n",
    "    return trainingDataset\n",
    "\n",
    "def checkTrainingSet(trainingSet, dates):\n",
    "    \"\"\"Función que comprueba que los valores obtenidos para el conjunto de entrenamiento tenga sentido. Devolverá un dataframe con los resultados\"\"\"\n",
    "\n",
    "    checkDataframe = pd.DataFrame(columns=[\"Timestamp\", \"Maximum number of MAC\", \"Maximum number of Pair MAC\", \"Number of NaN\"])\n",
    "\n",
    "    trainingSetCheck = trainingSet.copy()\n",
    "    trainingSetCheck[\"Timestamp\"] = pd.to_datetime(trainingSetCheck[\"Timestamp\"])\n",
    "\n",
    "    for date in dates:\n",
    "        group = trainingSetCheck.loc[trainingSetCheck[\"Timestamp\"].dt.date == date]\n",
    "        group = group.loc[:, (group.columns != 'Timestamp') & (group.columns != 'Person Count')]\n",
    "        nanNumber = group[\"N MAC RA\"].isna().sum()\n",
    "        group = group.fillna(0)\n",
    "        arr = group[\"N MAC TOTAL\"] >= (group[\"N MAC RCE\"] + group[\"N MAC RDE\"] + group[\"N MAC RCDE\"] + group[\"N MAC RBE\"])\n",
    "\n",
    "        if len(set(arr)) == 1:\n",
    "            checkNumberPairMAC = \"OK\"\n",
    "        else:\n",
    "            checkNumberPairMAC = \"ERROR\"\n",
    "        boolCheck = []\n",
    "        for column in group.columns:\n",
    "            arr = group[\"N MAC TOTAL\"] >= group[column]\n",
    "            if len(set(arr)) == 1:\n",
    "                boolCheck.append(True)\n",
    "            else:\n",
    "                boolCheck.append(False)\n",
    "\n",
    "        if len(set(boolCheck)) == 1:\n",
    "            checkNumberMAC = \"OK\"\n",
    "        else:\n",
    "            checkNumberMAC = \"ERROR\"\n",
    "\n",
    "        dt = pd.DataFrame([[date, checkNumberMAC, checkNumberPairMAC, nanNumber]],columns=[\"Timestamp\", \"Maximum number of MAC\", \"Maximum number of Pair MAC\", \"Number of NaN\"])\n",
    "        checkDataframe = pd.concat([checkDataframe, dt])\n",
    "    print(checkDataframe)\n",
    "\n",
    "    return checkDataframe"
   ]
  },
  {
   "cell_type": "markdown",
   "metadata": {},
   "source": [
    "## Procedimiento\n",
    "\n",
    "En primer lugar, cargamos los archivos con los que vamos a trabajar, alojados en las carpetas *data* y *personcount*."
   ]
  },
  {
   "cell_type": "code",
   "execution_count": 4,
   "metadata": {},
   "outputs": [],
   "source": [
    "# dataArray, fullPersonCountArray = readDataFromDirectory(dataPath, fullPersonCountPath)\n",
    "dataArrayList, fullPersonCountIntervalArrayList, datesList = readDataFromDirectory('docs/data/', 'docs/personcount/')"
   ]
  },
  {
   "cell_type": "markdown",
   "metadata": {},
   "source": [
    "A continuación, generamos el conjunto de entrenamiento utilizando los archivos previamente cargados. Esta función nos devolverá un Dataframe con todo lo necesario además de guardar en la carpeta *figures* una gráfica por cada columna para cada día."
   ]
  },
  {
   "cell_type": "code",
   "execution_count": 5,
   "outputs": [
    {
     "name": "stderr",
     "output_type": "stream",
     "text": [
      "C:\\Users\\pacho\\AppData\\Local\\Temp\\ipykernel_12172\\1510284908.py:404: RuntimeWarning: More than 20 figures have been opened. Figures created through the pyplot interface (`matplotlib.pyplot.figure`) are retained until explicitly closed and may consume too much memory. (To control this warning, see the rcParam `figure.max_open_warning`).\n",
      "  plt.figure(figsize=(10,6))\n"
     ]
    },
    {
     "data": {
      "text/plain": "<Figure size 720x432 with 0 Axes>"
     },
     "metadata": {},
     "output_type": "display_data"
    },
    {
     "data": {
      "text/plain": "<Figure size 720x432 with 0 Axes>"
     },
     "metadata": {},
     "output_type": "display_data"
    },
    {
     "data": {
      "text/plain": "<Figure size 720x432 with 0 Axes>"
     },
     "metadata": {},
     "output_type": "display_data"
    },
    {
     "data": {
      "text/plain": "<Figure size 720x432 with 0 Axes>"
     },
     "metadata": {},
     "output_type": "display_data"
    },
    {
     "data": {
      "text/plain": "<Figure size 720x432 with 0 Axes>"
     },
     "metadata": {},
     "output_type": "display_data"
    },
    {
     "data": {
      "text/plain": "<Figure size 720x432 with 0 Axes>"
     },
     "metadata": {},
     "output_type": "display_data"
    },
    {
     "data": {
      "text/plain": "<Figure size 720x432 with 0 Axes>"
     },
     "metadata": {},
     "output_type": "display_data"
    },
    {
     "data": {
      "text/plain": "<Figure size 720x432 with 0 Axes>"
     },
     "metadata": {},
     "output_type": "display_data"
    },
    {
     "data": {
      "text/plain": "<Figure size 720x432 with 0 Axes>"
     },
     "metadata": {},
     "output_type": "display_data"
    },
    {
     "data": {
      "text/plain": "<Figure size 720x432 with 0 Axes>"
     },
     "metadata": {},
     "output_type": "display_data"
    },
    {
     "data": {
      "text/plain": "<Figure size 720x432 with 0 Axes>"
     },
     "metadata": {},
     "output_type": "display_data"
    },
    {
     "data": {
      "text/plain": "<Figure size 720x432 with 0 Axes>"
     },
     "metadata": {},
     "output_type": "display_data"
    },
    {
     "data": {
      "text/plain": "<Figure size 720x432 with 0 Axes>"
     },
     "metadata": {},
     "output_type": "display_data"
    },
    {
     "data": {
      "text/plain": "<Figure size 720x432 with 0 Axes>"
     },
     "metadata": {},
     "output_type": "display_data"
    },
    {
     "data": {
      "text/plain": "<Figure size 720x432 with 0 Axes>"
     },
     "metadata": {},
     "output_type": "display_data"
    },
    {
     "data": {
      "text/plain": "<Figure size 720x432 with 0 Axes>"
     },
     "metadata": {},
     "output_type": "display_data"
    },
    {
     "data": {
      "text/plain": "<Figure size 720x432 with 0 Axes>"
     },
     "metadata": {},
     "output_type": "display_data"
    },
    {
     "data": {
      "text/plain": "<Figure size 720x432 with 0 Axes>"
     },
     "metadata": {},
     "output_type": "display_data"
    },
    {
     "data": {
      "text/plain": "<Figure size 720x432 with 0 Axes>"
     },
     "metadata": {},
     "output_type": "display_data"
    },
    {
     "data": {
      "text/plain": "<Figure size 720x432 with 0 Axes>"
     },
     "metadata": {},
     "output_type": "display_data"
    },
    {
     "data": {
      "text/plain": "<Figure size 720x432 with 0 Axes>"
     },
     "metadata": {},
     "output_type": "display_data"
    },
    {
     "data": {
      "text/plain": "<Figure size 720x432 with 0 Axes>"
     },
     "metadata": {},
     "output_type": "display_data"
    },
    {
     "data": {
      "text/plain": "<Figure size 720x432 with 0 Axes>"
     },
     "metadata": {},
     "output_type": "display_data"
    },
    {
     "data": {
      "text/plain": "<Figure size 720x432 with 0 Axes>"
     },
     "metadata": {},
     "output_type": "display_data"
    },
    {
     "data": {
      "text/plain": "<Figure size 720x432 with 0 Axes>"
     },
     "metadata": {},
     "output_type": "display_data"
    },
    {
     "data": {
      "text/plain": "<Figure size 720x432 with 0 Axes>"
     },
     "metadata": {},
     "output_type": "display_data"
    },
    {
     "data": {
      "text/plain": "<Figure size 720x432 with 0 Axes>"
     },
     "metadata": {},
     "output_type": "display_data"
    },
    {
     "data": {
      "text/plain": "<Figure size 720x432 with 0 Axes>"
     },
     "metadata": {},
     "output_type": "display_data"
    },
    {
     "data": {
      "text/plain": "<Figure size 720x432 with 0 Axes>"
     },
     "metadata": {},
     "output_type": "display_data"
    },
    {
     "data": {
      "text/plain": "<Figure size 720x432 with 0 Axes>"
     },
     "metadata": {},
     "output_type": "display_data"
    },
    {
     "data": {
      "text/plain": "<Figure size 720x432 with 0 Axes>"
     },
     "metadata": {},
     "output_type": "display_data"
    },
    {
     "data": {
      "text/plain": "<Figure size 720x432 with 0 Axes>"
     },
     "metadata": {},
     "output_type": "display_data"
    },
    {
     "data": {
      "text/plain": "<Figure size 720x432 with 0 Axes>"
     },
     "metadata": {},
     "output_type": "display_data"
    },
    {
     "data": {
      "text/plain": "<Figure size 720x432 with 0 Axes>"
     },
     "metadata": {},
     "output_type": "display_data"
    },
    {
     "data": {
      "text/plain": "<Figure size 720x432 with 0 Axes>"
     },
     "metadata": {},
     "output_type": "display_data"
    },
    {
     "data": {
      "text/plain": "<Figure size 720x432 with 0 Axes>"
     },
     "metadata": {},
     "output_type": "display_data"
    },
    {
     "data": {
      "text/plain": "<Figure size 720x432 with 0 Axes>"
     },
     "metadata": {},
     "output_type": "display_data"
    },
    {
     "data": {
      "text/plain": "<Figure size 720x432 with 0 Axes>"
     },
     "metadata": {},
     "output_type": "display_data"
    },
    {
     "data": {
      "text/plain": "<Figure size 720x432 with 0 Axes>"
     },
     "metadata": {},
     "output_type": "display_data"
    },
    {
     "data": {
      "text/plain": "<Figure size 720x432 with 0 Axes>"
     },
     "metadata": {},
     "output_type": "display_data"
    },
    {
     "data": {
      "text/plain": "<Figure size 720x432 with 0 Axes>"
     },
     "metadata": {},
     "output_type": "display_data"
    },
    {
     "data": {
      "text/plain": "<Figure size 720x432 with 0 Axes>"
     },
     "metadata": {},
     "output_type": "display_data"
    },
    {
     "data": {
      "text/plain": "<Figure size 720x432 with 0 Axes>"
     },
     "metadata": {},
     "output_type": "display_data"
    },
    {
     "data": {
      "text/plain": "<Figure size 720x432 with 0 Axes>"
     },
     "metadata": {},
     "output_type": "display_data"
    },
    {
     "data": {
      "text/plain": "<Figure size 720x432 with 0 Axes>"
     },
     "metadata": {},
     "output_type": "display_data"
    },
    {
     "data": {
      "text/plain": "<Figure size 720x432 with 0 Axes>"
     },
     "metadata": {},
     "output_type": "display_data"
    },
    {
     "data": {
      "text/plain": "<Figure size 720x432 with 0 Axes>"
     },
     "metadata": {},
     "output_type": "display_data"
    },
    {
     "data": {
      "text/plain": "<Figure size 720x432 with 0 Axes>"
     },
     "metadata": {},
     "output_type": "display_data"
    },
    {
     "data": {
      "text/plain": "<Figure size 720x432 with 0 Axes>"
     },
     "metadata": {},
     "output_type": "display_data"
    },
    {
     "data": {
      "text/plain": "<Figure size 720x432 with 0 Axes>"
     },
     "metadata": {},
     "output_type": "display_data"
    },
    {
     "data": {
      "text/plain": "<Figure size 720x432 with 0 Axes>"
     },
     "metadata": {},
     "output_type": "display_data"
    },
    {
     "data": {
      "text/plain": "<Figure size 720x432 with 0 Axes>"
     },
     "metadata": {},
     "output_type": "display_data"
    },
    {
     "data": {
      "text/plain": "<Figure size 720x432 with 0 Axes>"
     },
     "metadata": {},
     "output_type": "display_data"
    },
    {
     "data": {
      "text/plain": "<Figure size 720x432 with 0 Axes>"
     },
     "metadata": {},
     "output_type": "display_data"
    },
    {
     "data": {
      "text/plain": "<Figure size 720x432 with 0 Axes>"
     },
     "metadata": {},
     "output_type": "display_data"
    },
    {
     "data": {
      "text/plain": "<Figure size 720x432 with 0 Axes>"
     },
     "metadata": {},
     "output_type": "display_data"
    },
    {
     "data": {
      "text/plain": "<Figure size 720x432 with 0 Axes>"
     },
     "metadata": {},
     "output_type": "display_data"
    },
    {
     "data": {
      "text/plain": "<Figure size 720x432 with 0 Axes>"
     },
     "metadata": {},
     "output_type": "display_data"
    },
    {
     "data": {
      "text/plain": "<Figure size 720x432 with 0 Axes>"
     },
     "metadata": {},
     "output_type": "display_data"
    },
    {
     "data": {
      "text/plain": "<Figure size 720x432 with 0 Axes>"
     },
     "metadata": {},
     "output_type": "display_data"
    },
    {
     "data": {
      "text/plain": "<Figure size 720x432 with 0 Axes>"
     },
     "metadata": {},
     "output_type": "display_data"
    },
    {
     "data": {
      "text/plain": "<Figure size 720x432 with 0 Axes>"
     },
     "metadata": {},
     "output_type": "display_data"
    },
    {
     "data": {
      "text/plain": "<Figure size 720x432 with 0 Axes>"
     },
     "metadata": {},
     "output_type": "display_data"
    },
    {
     "data": {
      "text/plain": "<Figure size 720x432 with 0 Axes>"
     },
     "metadata": {},
     "output_type": "display_data"
    },
    {
     "data": {
      "text/plain": "<Figure size 720x432 with 0 Axes>"
     },
     "metadata": {},
     "output_type": "display_data"
    },
    {
     "data": {
      "text/plain": "<Figure size 720x432 with 0 Axes>"
     },
     "metadata": {},
     "output_type": "display_data"
    },
    {
     "data": {
      "text/plain": "<Figure size 720x432 with 0 Axes>"
     },
     "metadata": {},
     "output_type": "display_data"
    },
    {
     "data": {
      "text/plain": "<Figure size 720x432 with 0 Axes>"
     },
     "metadata": {},
     "output_type": "display_data"
    },
    {
     "data": {
      "text/plain": "<Figure size 720x432 with 0 Axes>"
     },
     "metadata": {},
     "output_type": "display_data"
    },
    {
     "data": {
      "text/plain": "<Figure size 720x432 with 0 Axes>"
     },
     "metadata": {},
     "output_type": "display_data"
    },
    {
     "data": {
      "text/plain": "<Figure size 720x432 with 0 Axes>"
     },
     "metadata": {},
     "output_type": "display_data"
    },
    {
     "data": {
      "text/plain": "<Figure size 720x432 with 0 Axes>"
     },
     "metadata": {},
     "output_type": "display_data"
    },
    {
     "data": {
      "text/plain": "<Figure size 720x432 with 0 Axes>"
     },
     "metadata": {},
     "output_type": "display_data"
    },
    {
     "data": {
      "text/plain": "<Figure size 720x432 with 0 Axes>"
     },
     "metadata": {},
     "output_type": "display_data"
    },
    {
     "data": {
      "text/plain": "<Figure size 720x432 with 0 Axes>"
     },
     "metadata": {},
     "output_type": "display_data"
    },
    {
     "data": {
      "text/plain": "<Figure size 720x432 with 0 Axes>"
     },
     "metadata": {},
     "output_type": "display_data"
    },
    {
     "data": {
      "text/plain": "<Figure size 720x432 with 0 Axes>"
     },
     "metadata": {},
     "output_type": "display_data"
    },
    {
     "data": {
      "text/plain": "<Figure size 720x432 with 0 Axes>"
     },
     "metadata": {},
     "output_type": "display_data"
    },
    {
     "data": {
      "text/plain": "<Figure size 720x432 with 0 Axes>"
     },
     "metadata": {},
     "output_type": "display_data"
    },
    {
     "data": {
      "text/plain": "<Figure size 720x432 with 0 Axes>"
     },
     "metadata": {},
     "output_type": "display_data"
    },
    {
     "data": {
      "text/plain": "<Figure size 720x432 with 0 Axes>"
     },
     "metadata": {},
     "output_type": "display_data"
    },
    {
     "data": {
      "text/plain": "<Figure size 720x432 with 0 Axes>"
     },
     "metadata": {},
     "output_type": "display_data"
    },
    {
     "data": {
      "text/plain": "<Figure size 720x432 with 0 Axes>"
     },
     "metadata": {},
     "output_type": "display_data"
    },
    {
     "data": {
      "text/plain": "<Figure size 720x432 with 0 Axes>"
     },
     "metadata": {},
     "output_type": "display_data"
    },
    {
     "data": {
      "text/plain": "<Figure size 720x432 with 0 Axes>"
     },
     "metadata": {},
     "output_type": "display_data"
    },
    {
     "data": {
      "text/plain": "<Figure size 720x432 with 0 Axes>"
     },
     "metadata": {},
     "output_type": "display_data"
    },
    {
     "data": {
      "text/plain": "<Figure size 720x432 with 0 Axes>"
     },
     "metadata": {},
     "output_type": "display_data"
    },
    {
     "data": {
      "text/plain": "<Figure size 720x432 with 0 Axes>"
     },
     "metadata": {},
     "output_type": "display_data"
    },
    {
     "data": {
      "text/plain": "<Figure size 720x432 with 0 Axes>"
     },
     "metadata": {},
     "output_type": "display_data"
    },
    {
     "data": {
      "text/plain": "<Figure size 720x432 with 0 Axes>"
     },
     "metadata": {},
     "output_type": "display_data"
    },
    {
     "data": {
      "text/plain": "<Figure size 720x432 with 0 Axes>"
     },
     "metadata": {},
     "output_type": "display_data"
    },
    {
     "data": {
      "text/plain": "<Figure size 720x432 with 0 Axes>"
     },
     "metadata": {},
     "output_type": "display_data"
    },
    {
     "data": {
      "text/plain": "<Figure size 720x432 with 0 Axes>"
     },
     "metadata": {},
     "output_type": "display_data"
    },
    {
     "data": {
      "text/plain": "<Figure size 720x432 with 0 Axes>"
     },
     "metadata": {},
     "output_type": "display_data"
    },
    {
     "data": {
      "text/plain": "<Figure size 720x432 with 0 Axes>"
     },
     "metadata": {},
     "output_type": "display_data"
    },
    {
     "data": {
      "text/plain": "<Figure size 720x432 with 0 Axes>"
     },
     "metadata": {},
     "output_type": "display_data"
    },
    {
     "data": {
      "text/plain": "<Figure size 720x432 with 0 Axes>"
     },
     "metadata": {},
     "output_type": "display_data"
    },
    {
     "data": {
      "text/plain": "<Figure size 720x432 with 0 Axes>"
     },
     "metadata": {},
     "output_type": "display_data"
    },
    {
     "data": {
      "text/plain": "<Figure size 720x432 with 0 Axes>"
     },
     "metadata": {},
     "output_type": "display_data"
    },
    {
     "data": {
      "text/plain": "<Figure size 720x432 with 0 Axes>"
     },
     "metadata": {},
     "output_type": "display_data"
    },
    {
     "data": {
      "text/plain": "<Figure size 720x432 with 0 Axes>"
     },
     "metadata": {},
     "output_type": "display_data"
    },
    {
     "data": {
      "text/plain": "<Figure size 720x432 with 0 Axes>"
     },
     "metadata": {},
     "output_type": "display_data"
    },
    {
     "data": {
      "text/plain": "<Figure size 720x432 with 0 Axes>"
     },
     "metadata": {},
     "output_type": "display_data"
    },
    {
     "data": {
      "text/plain": "<Figure size 720x432 with 0 Axes>"
     },
     "metadata": {},
     "output_type": "display_data"
    },
    {
     "data": {
      "text/plain": "<Figure size 720x432 with 0 Axes>"
     },
     "metadata": {},
     "output_type": "display_data"
    },
    {
     "data": {
      "text/plain": "<Figure size 720x432 with 0 Axes>"
     },
     "metadata": {},
     "output_type": "display_data"
    },
    {
     "data": {
      "text/plain": "<Figure size 720x432 with 0 Axes>"
     },
     "metadata": {},
     "output_type": "display_data"
    },
    {
     "data": {
      "text/plain": "<Figure size 720x432 with 0 Axes>"
     },
     "metadata": {},
     "output_type": "display_data"
    },
    {
     "data": {
      "text/plain": "<Figure size 720x432 with 0 Axes>"
     },
     "metadata": {},
     "output_type": "display_data"
    },
    {
     "data": {
      "text/plain": "<Figure size 720x432 with 0 Axes>"
     },
     "metadata": {},
     "output_type": "display_data"
    },
    {
     "data": {
      "text/plain": "<Figure size 720x432 with 0 Axes>"
     },
     "metadata": {},
     "output_type": "display_data"
    },
    {
     "data": {
      "text/plain": "<Figure size 720x432 with 0 Axes>"
     },
     "metadata": {},
     "output_type": "display_data"
    },
    {
     "data": {
      "text/plain": "<Figure size 720x432 with 0 Axes>"
     },
     "metadata": {},
     "output_type": "display_data"
    },
    {
     "data": {
      "text/plain": "<Figure size 720x432 with 0 Axes>"
     },
     "metadata": {},
     "output_type": "display_data"
    },
    {
     "data": {
      "text/plain": "<Figure size 720x432 with 0 Axes>"
     },
     "metadata": {},
     "output_type": "display_data"
    },
    {
     "data": {
      "text/plain": "<Figure size 720x432 with 0 Axes>"
     },
     "metadata": {},
     "output_type": "display_data"
    },
    {
     "data": {
      "text/plain": "<Figure size 720x432 with 0 Axes>"
     },
     "metadata": {},
     "output_type": "display_data"
    },
    {
     "data": {
      "text/plain": "<Figure size 720x432 with 0 Axes>"
     },
     "metadata": {},
     "output_type": "display_data"
    },
    {
     "data": {
      "text/plain": "<Figure size 720x432 with 0 Axes>"
     },
     "metadata": {},
     "output_type": "display_data"
    },
    {
     "data": {
      "text/plain": "<Figure size 720x432 with 0 Axes>"
     },
     "metadata": {},
     "output_type": "display_data"
    },
    {
     "data": {
      "text/plain": "<Figure size 720x432 with 0 Axes>"
     },
     "metadata": {},
     "output_type": "display_data"
    },
    {
     "data": {
      "text/plain": "<Figure size 720x432 with 0 Axes>"
     },
     "metadata": {},
     "output_type": "display_data"
    },
    {
     "data": {
      "text/plain": "<Figure size 720x432 with 0 Axes>"
     },
     "metadata": {},
     "output_type": "display_data"
    },
    {
     "data": {
      "text/plain": "<Figure size 720x432 with 0 Axes>"
     },
     "metadata": {},
     "output_type": "display_data"
    },
    {
     "data": {
      "text/plain": "<Figure size 720x432 with 0 Axes>"
     },
     "metadata": {},
     "output_type": "display_data"
    },
    {
     "data": {
      "text/plain": "<Figure size 720x432 with 0 Axes>"
     },
     "metadata": {},
     "output_type": "display_data"
    },
    {
     "data": {
      "text/plain": "<Figure size 720x432 with 0 Axes>"
     },
     "metadata": {},
     "output_type": "display_data"
    },
    {
     "data": {
      "text/plain": "<Figure size 720x432 with 0 Axes>"
     },
     "metadata": {},
     "output_type": "display_data"
    },
    {
     "data": {
      "text/plain": "<Figure size 720x432 with 0 Axes>"
     },
     "metadata": {},
     "output_type": "display_data"
    },
    {
     "data": {
      "text/plain": "<Figure size 720x432 with 0 Axes>"
     },
     "metadata": {},
     "output_type": "display_data"
    },
    {
     "data": {
      "text/plain": "<Figure size 720x432 with 0 Axes>"
     },
     "metadata": {},
     "output_type": "display_data"
    },
    {
     "data": {
      "text/plain": "<Figure size 720x432 with 0 Axes>"
     },
     "metadata": {},
     "output_type": "display_data"
    },
    {
     "data": {
      "text/plain": "<Figure size 720x432 with 0 Axes>"
     },
     "metadata": {},
     "output_type": "display_data"
    },
    {
     "data": {
      "text/plain": "<Figure size 720x432 with 0 Axes>"
     },
     "metadata": {},
     "output_type": "display_data"
    },
    {
     "data": {
      "text/plain": "<Figure size 720x432 with 0 Axes>"
     },
     "metadata": {},
     "output_type": "display_data"
    },
    {
     "data": {
      "text/plain": "<Figure size 720x432 with 0 Axes>"
     },
     "metadata": {},
     "output_type": "display_data"
    },
    {
     "data": {
      "text/plain": "<Figure size 720x432 with 0 Axes>"
     },
     "metadata": {},
     "output_type": "display_data"
    },
    {
     "data": {
      "text/plain": "<Figure size 720x432 with 0 Axes>"
     },
     "metadata": {},
     "output_type": "display_data"
    },
    {
     "data": {
      "text/plain": "<Figure size 720x432 with 0 Axes>"
     },
     "metadata": {},
     "output_type": "display_data"
    },
    {
     "data": {
      "text/plain": "<Figure size 720x432 with 0 Axes>"
     },
     "metadata": {},
     "output_type": "display_data"
    },
    {
     "data": {
      "text/plain": "<Figure size 720x432 with 0 Axes>"
     },
     "metadata": {},
     "output_type": "display_data"
    },
    {
     "data": {
      "text/plain": "<Figure size 720x432 with 0 Axes>"
     },
     "metadata": {},
     "output_type": "display_data"
    },
    {
     "data": {
      "text/plain": "<Figure size 720x432 with 0 Axes>"
     },
     "metadata": {},
     "output_type": "display_data"
    },
    {
     "data": {
      "text/plain": "<Figure size 720x432 with 0 Axes>"
     },
     "metadata": {},
     "output_type": "display_data"
    },
    {
     "data": {
      "text/plain": "<Figure size 720x432 with 0 Axes>"
     },
     "metadata": {},
     "output_type": "display_data"
    },
    {
     "data": {
      "text/plain": "<Figure size 720x432 with 0 Axes>"
     },
     "metadata": {},
     "output_type": "display_data"
    },
    {
     "data": {
      "text/plain": "<Figure size 720x432 with 0 Axes>"
     },
     "metadata": {},
     "output_type": "display_data"
    },
    {
     "data": {
      "text/plain": "<Figure size 720x432 with 0 Axes>"
     },
     "metadata": {},
     "output_type": "display_data"
    },
    {
     "data": {
      "text/plain": "<Figure size 720x432 with 0 Axes>"
     },
     "metadata": {},
     "output_type": "display_data"
    },
    {
     "data": {
      "text/plain": "<Figure size 720x432 with 0 Axes>"
     },
     "metadata": {},
     "output_type": "display_data"
    },
    {
     "data": {
      "text/plain": "<Figure size 720x432 with 0 Axes>"
     },
     "metadata": {},
     "output_type": "display_data"
    },
    {
     "data": {
      "text/plain": "<Figure size 720x432 with 0 Axes>"
     },
     "metadata": {},
     "output_type": "display_data"
    },
    {
     "data": {
      "text/plain": "<Figure size 720x432 with 0 Axes>"
     },
     "metadata": {},
     "output_type": "display_data"
    },
    {
     "data": {
      "text/plain": "<Figure size 720x432 with 0 Axes>"
     },
     "metadata": {},
     "output_type": "display_data"
    },
    {
     "data": {
      "text/plain": "<Figure size 720x432 with 0 Axes>"
     },
     "metadata": {},
     "output_type": "display_data"
    },
    {
     "data": {
      "text/plain": "<Figure size 720x432 with 0 Axes>"
     },
     "metadata": {},
     "output_type": "display_data"
    },
    {
     "data": {
      "text/plain": "<Figure size 720x432 with 0 Axes>"
     },
     "metadata": {},
     "output_type": "display_data"
    },
    {
     "data": {
      "text/plain": "<Figure size 720x432 with 0 Axes>"
     },
     "metadata": {},
     "output_type": "display_data"
    },
    {
     "data": {
      "text/plain": "<Figure size 720x432 with 0 Axes>"
     },
     "metadata": {},
     "output_type": "display_data"
    },
    {
     "data": {
      "text/plain": "<Figure size 720x432 with 0 Axes>"
     },
     "metadata": {},
     "output_type": "display_data"
    },
    {
     "data": {
      "text/plain": "<Figure size 720x432 with 0 Axes>"
     },
     "metadata": {},
     "output_type": "display_data"
    },
    {
     "data": {
      "text/plain": "<Figure size 720x432 with 0 Axes>"
     },
     "metadata": {},
     "output_type": "display_data"
    },
    {
     "data": {
      "text/plain": "<Figure size 720x432 with 0 Axes>"
     },
     "metadata": {},
     "output_type": "display_data"
    },
    {
     "data": {
      "text/plain": "<Figure size 720x432 with 0 Axes>"
     },
     "metadata": {},
     "output_type": "display_data"
    },
    {
     "data": {
      "text/plain": "<Figure size 720x432 with 0 Axes>"
     },
     "metadata": {},
     "output_type": "display_data"
    },
    {
     "data": {
      "text/plain": "<Figure size 720x432 with 0 Axes>"
     },
     "metadata": {},
     "output_type": "display_data"
    },
    {
     "data": {
      "text/plain": "<Figure size 720x432 with 0 Axes>"
     },
     "metadata": {},
     "output_type": "display_data"
    },
    {
     "data": {
      "text/plain": "<Figure size 720x432 with 0 Axes>"
     },
     "metadata": {},
     "output_type": "display_data"
    },
    {
     "data": {
      "text/plain": "<Figure size 720x432 with 0 Axes>"
     },
     "metadata": {},
     "output_type": "display_data"
    },
    {
     "data": {
      "text/plain": "<Figure size 720x432 with 0 Axes>"
     },
     "metadata": {},
     "output_type": "display_data"
    },
    {
     "data": {
      "text/plain": "<Figure size 720x432 with 0 Axes>"
     },
     "metadata": {},
     "output_type": "display_data"
    },
    {
     "data": {
      "text/plain": "<Figure size 720x432 with 0 Axes>"
     },
     "metadata": {},
     "output_type": "display_data"
    },
    {
     "data": {
      "text/plain": "<Figure size 720x432 with 0 Axes>"
     },
     "metadata": {},
     "output_type": "display_data"
    },
    {
     "data": {
      "text/plain": "<Figure size 720x432 with 0 Axes>"
     },
     "metadata": {},
     "output_type": "display_data"
    },
    {
     "data": {
      "text/plain": "<Figure size 720x432 with 0 Axes>"
     },
     "metadata": {},
     "output_type": "display_data"
    },
    {
     "data": {
      "text/plain": "<Figure size 720x432 with 0 Axes>"
     },
     "metadata": {},
     "output_type": "display_data"
    },
    {
     "data": {
      "text/plain": "<Figure size 720x432 with 0 Axes>"
     },
     "metadata": {},
     "output_type": "display_data"
    },
    {
     "data": {
      "text/plain": "<Figure size 720x432 with 0 Axes>"
     },
     "metadata": {},
     "output_type": "display_data"
    },
    {
     "data": {
      "text/plain": "<Figure size 720x432 with 0 Axes>"
     },
     "metadata": {},
     "output_type": "display_data"
    },
    {
     "data": {
      "text/plain": "<Figure size 720x432 with 0 Axes>"
     },
     "metadata": {},
     "output_type": "display_data"
    },
    {
     "data": {
      "text/plain": "<Figure size 720x432 with 0 Axes>"
     },
     "metadata": {},
     "output_type": "display_data"
    },
    {
     "data": {
      "text/plain": "<Figure size 720x432 with 0 Axes>"
     },
     "metadata": {},
     "output_type": "display_data"
    },
    {
     "data": {
      "text/plain": "<Figure size 720x432 with 0 Axes>"
     },
     "metadata": {},
     "output_type": "display_data"
    },
    {
     "data": {
      "text/plain": "<Figure size 720x432 with 0 Axes>"
     },
     "metadata": {},
     "output_type": "display_data"
    },
    {
     "data": {
      "text/plain": "<Figure size 720x432 with 0 Axes>"
     },
     "metadata": {},
     "output_type": "display_data"
    },
    {
     "data": {
      "text/plain": "<Figure size 720x432 with 0 Axes>"
     },
     "metadata": {},
     "output_type": "display_data"
    },
    {
     "data": {
      "text/plain": "<Figure size 720x432 with 0 Axes>"
     },
     "metadata": {},
     "output_type": "display_data"
    },
    {
     "data": {
      "text/plain": "<Figure size 720x432 with 0 Axes>"
     },
     "metadata": {},
     "output_type": "display_data"
    },
    {
     "data": {
      "text/plain": "<Figure size 720x432 with 0 Axes>"
     },
     "metadata": {},
     "output_type": "display_data"
    },
    {
     "data": {
      "text/plain": "<Figure size 720x432 with 0 Axes>"
     },
     "metadata": {},
     "output_type": "display_data"
    },
    {
     "data": {
      "text/plain": "<Figure size 720x432 with 0 Axes>"
     },
     "metadata": {},
     "output_type": "display_data"
    },
    {
     "data": {
      "text/plain": "<Figure size 720x432 with 0 Axes>"
     },
     "metadata": {},
     "output_type": "display_data"
    },
    {
     "data": {
      "text/plain": "<Figure size 720x432 with 0 Axes>"
     },
     "metadata": {},
     "output_type": "display_data"
    },
    {
     "data": {
      "text/plain": "<Figure size 720x432 with 0 Axes>"
     },
     "metadata": {},
     "output_type": "display_data"
    },
    {
     "data": {
      "text/plain": "<Figure size 720x432 with 0 Axes>"
     },
     "metadata": {},
     "output_type": "display_data"
    },
    {
     "data": {
      "text/plain": "<Figure size 720x432 with 0 Axes>"
     },
     "metadata": {},
     "output_type": "display_data"
    },
    {
     "data": {
      "text/plain": "<Figure size 720x432 with 0 Axes>"
     },
     "metadata": {},
     "output_type": "display_data"
    },
    {
     "data": {
      "text/plain": "<Figure size 720x432 with 0 Axes>"
     },
     "metadata": {},
     "output_type": "display_data"
    },
    {
     "data": {
      "text/plain": "<Figure size 720x432 with 0 Axes>"
     },
     "metadata": {},
     "output_type": "display_data"
    },
    {
     "data": {
      "text/plain": "<Figure size 720x432 with 0 Axes>"
     },
     "metadata": {},
     "output_type": "display_data"
    },
    {
     "data": {
      "text/plain": "<Figure size 720x432 with 0 Axes>"
     },
     "metadata": {},
     "output_type": "display_data"
    },
    {
     "data": {
      "text/plain": "<Figure size 720x432 with 0 Axes>"
     },
     "metadata": {},
     "output_type": "display_data"
    },
    {
     "data": {
      "text/plain": "<Figure size 720x432 with 0 Axes>"
     },
     "metadata": {},
     "output_type": "display_data"
    },
    {
     "data": {
      "text/plain": "<Figure size 720x432 with 0 Axes>"
     },
     "metadata": {},
     "output_type": "display_data"
    },
    {
     "data": {
      "text/plain": "<Figure size 720x432 with 0 Axes>"
     },
     "metadata": {},
     "output_type": "display_data"
    },
    {
     "data": {
      "text/plain": "<Figure size 720x432 with 0 Axes>"
     },
     "metadata": {},
     "output_type": "display_data"
    },
    {
     "data": {
      "text/plain": "<Figure size 720x432 with 0 Axes>"
     },
     "metadata": {},
     "output_type": "display_data"
    },
    {
     "data": {
      "text/plain": "<Figure size 720x432 with 0 Axes>"
     },
     "metadata": {},
     "output_type": "display_data"
    },
    {
     "data": {
      "text/plain": "<Figure size 720x432 with 0 Axes>"
     },
     "metadata": {},
     "output_type": "display_data"
    },
    {
     "data": {
      "text/plain": "<Figure size 720x432 with 0 Axes>"
     },
     "metadata": {},
     "output_type": "display_data"
    },
    {
     "data": {
      "text/plain": "<Figure size 720x432 with 0 Axes>"
     },
     "metadata": {},
     "output_type": "display_data"
    },
    {
     "data": {
      "text/plain": "<Figure size 720x432 with 0 Axes>"
     },
     "metadata": {},
     "output_type": "display_data"
    },
    {
     "data": {
      "text/plain": "<Figure size 720x432 with 0 Axes>"
     },
     "metadata": {},
     "output_type": "display_data"
    },
    {
     "data": {
      "text/plain": "<Figure size 720x432 with 0 Axes>"
     },
     "metadata": {},
     "output_type": "display_data"
    },
    {
     "data": {
      "text/plain": "<Figure size 720x432 with 0 Axes>"
     },
     "metadata": {},
     "output_type": "display_data"
    },
    {
     "data": {
      "text/plain": "<Figure size 720x432 with 0 Axes>"
     },
     "metadata": {},
     "output_type": "display_data"
    },
    {
     "data": {
      "text/plain": "<Figure size 720x432 with 0 Axes>"
     },
     "metadata": {},
     "output_type": "display_data"
    },
    {
     "data": {
      "text/plain": "<Figure size 720x432 with 0 Axes>"
     },
     "metadata": {},
     "output_type": "display_data"
    },
    {
     "data": {
      "text/plain": "<Figure size 720x432 with 0 Axes>"
     },
     "metadata": {},
     "output_type": "display_data"
    },
    {
     "data": {
      "text/plain": "<Figure size 720x432 with 0 Axes>"
     },
     "metadata": {},
     "output_type": "display_data"
    },
    {
     "data": {
      "text/plain": "<Figure size 720x432 with 0 Axes>"
     },
     "metadata": {},
     "output_type": "display_data"
    },
    {
     "data": {
      "text/plain": "<Figure size 720x432 with 0 Axes>"
     },
     "metadata": {},
     "output_type": "display_data"
    },
    {
     "data": {
      "text/plain": "<Figure size 720x432 with 0 Axes>"
     },
     "metadata": {},
     "output_type": "display_data"
    },
    {
     "data": {
      "text/plain": "<Figure size 720x432 with 0 Axes>"
     },
     "metadata": {},
     "output_type": "display_data"
    },
    {
     "data": {
      "text/plain": "<Figure size 720x432 with 0 Axes>"
     },
     "metadata": {},
     "output_type": "display_data"
    },
    {
     "data": {
      "text/plain": "<Figure size 720x432 with 0 Axes>"
     },
     "metadata": {},
     "output_type": "display_data"
    },
    {
     "data": {
      "text/plain": "<Figure size 720x432 with 0 Axes>"
     },
     "metadata": {},
     "output_type": "display_data"
    },
    {
     "data": {
      "text/plain": "<Figure size 720x432 with 0 Axes>"
     },
     "metadata": {},
     "output_type": "display_data"
    },
    {
     "data": {
      "text/plain": "<Figure size 720x432 with 0 Axes>"
     },
     "metadata": {},
     "output_type": "display_data"
    },
    {
     "data": {
      "text/plain": "<Figure size 720x432 with 0 Axes>"
     },
     "metadata": {},
     "output_type": "display_data"
    },
    {
     "data": {
      "text/plain": "<Figure size 720x432 with 0 Axes>"
     },
     "metadata": {},
     "output_type": "display_data"
    },
    {
     "data": {
      "text/plain": "<Figure size 720x432 with 0 Axes>"
     },
     "metadata": {},
     "output_type": "display_data"
    },
    {
     "data": {
      "text/plain": "<Figure size 720x432 with 0 Axes>"
     },
     "metadata": {},
     "output_type": "display_data"
    },
    {
     "data": {
      "text/plain": "<Figure size 720x432 with 0 Axes>"
     },
     "metadata": {},
     "output_type": "display_data"
    },
    {
     "data": {
      "text/plain": "<Figure size 720x432 with 0 Axes>"
     },
     "metadata": {},
     "output_type": "display_data"
    },
    {
     "data": {
      "text/plain": "<Figure size 720x432 with 0 Axes>"
     },
     "metadata": {},
     "output_type": "display_data"
    },
    {
     "data": {
      "text/plain": "<Figure size 720x432 with 0 Axes>"
     },
     "metadata": {},
     "output_type": "display_data"
    },
    {
     "data": {
      "text/plain": "<Figure size 720x432 with 0 Axes>"
     },
     "metadata": {},
     "output_type": "display_data"
    },
    {
     "data": {
      "text/plain": "<Figure size 720x432 with 0 Axes>"
     },
     "metadata": {},
     "output_type": "display_data"
    },
    {
     "data": {
      "text/plain": "<Figure size 720x432 with 0 Axes>"
     },
     "metadata": {},
     "output_type": "display_data"
    },
    {
     "data": {
      "text/plain": "<Figure size 720x432 with 0 Axes>"
     },
     "metadata": {},
     "output_type": "display_data"
    },
    {
     "data": {
      "text/plain": "<Figure size 720x432 with 0 Axes>"
     },
     "metadata": {},
     "output_type": "display_data"
    },
    {
     "data": {
      "text/plain": "<Figure size 720x432 with 0 Axes>"
     },
     "metadata": {},
     "output_type": "display_data"
    },
    {
     "data": {
      "text/plain": "<Figure size 720x432 with 0 Axes>"
     },
     "metadata": {},
     "output_type": "display_data"
    },
    {
     "data": {
      "text/plain": "<Figure size 720x432 with 0 Axes>"
     },
     "metadata": {},
     "output_type": "display_data"
    },
    {
     "data": {
      "text/plain": "<Figure size 720x432 with 0 Axes>"
     },
     "metadata": {},
     "output_type": "display_data"
    },
    {
     "data": {
      "text/plain": "<Figure size 720x432 with 0 Axes>"
     },
     "metadata": {},
     "output_type": "display_data"
    },
    {
     "data": {
      "text/plain": "<Figure size 720x432 with 0 Axes>"
     },
     "metadata": {},
     "output_type": "display_data"
    },
    {
     "data": {
      "text/plain": "<Figure size 720x432 with 0 Axes>"
     },
     "metadata": {},
     "output_type": "display_data"
    },
    {
     "data": {
      "text/plain": "<Figure size 720x432 with 0 Axes>"
     },
     "metadata": {},
     "output_type": "display_data"
    },
    {
     "data": {
      "text/plain": "<Figure size 720x432 with 0 Axes>"
     },
     "metadata": {},
     "output_type": "display_data"
    },
    {
     "data": {
      "text/plain": "<Figure size 720x432 with 0 Axes>"
     },
     "metadata": {},
     "output_type": "display_data"
    },
    {
     "data": {
      "text/plain": "<Figure size 720x432 with 0 Axes>"
     },
     "metadata": {},
     "output_type": "display_data"
    },
    {
     "data": {
      "text/plain": "<Figure size 720x432 with 0 Axes>"
     },
     "metadata": {},
     "output_type": "display_data"
    },
    {
     "data": {
      "text/plain": "<Figure size 720x432 with 0 Axes>"
     },
     "metadata": {},
     "output_type": "display_data"
    },
    {
     "data": {
      "text/plain": "<Figure size 720x432 with 0 Axes>"
     },
     "metadata": {},
     "output_type": "display_data"
    },
    {
     "data": {
      "text/plain": "<Figure size 720x432 with 0 Axes>"
     },
     "metadata": {},
     "output_type": "display_data"
    },
    {
     "data": {
      "text/plain": "<Figure size 720x432 with 0 Axes>"
     },
     "metadata": {},
     "output_type": "display_data"
    },
    {
     "data": {
      "text/plain": "<Figure size 720x432 with 0 Axes>"
     },
     "metadata": {},
     "output_type": "display_data"
    },
    {
     "data": {
      "text/plain": "<Figure size 720x432 with 0 Axes>"
     },
     "metadata": {},
     "output_type": "display_data"
    },
    {
     "data": {
      "text/plain": "<Figure size 720x432 with 0 Axes>"
     },
     "metadata": {},
     "output_type": "display_data"
    },
    {
     "data": {
      "text/plain": "<Figure size 720x432 with 0 Axes>"
     },
     "metadata": {},
     "output_type": "display_data"
    },
    {
     "data": {
      "text/plain": "<Figure size 720x432 with 0 Axes>"
     },
     "metadata": {},
     "output_type": "display_data"
    },
    {
     "data": {
      "text/plain": "<Figure size 720x432 with 0 Axes>"
     },
     "metadata": {},
     "output_type": "display_data"
    },
    {
     "data": {
      "text/plain": "<Figure size 720x432 with 0 Axes>"
     },
     "metadata": {},
     "output_type": "display_data"
    },
    {
     "data": {
      "text/plain": "<Figure size 720x432 with 0 Axes>"
     },
     "metadata": {},
     "output_type": "display_data"
    },
    {
     "data": {
      "text/plain": "<Figure size 720x432 with 0 Axes>"
     },
     "metadata": {},
     "output_type": "display_data"
    },
    {
     "data": {
      "text/plain": "<Figure size 720x432 with 0 Axes>"
     },
     "metadata": {},
     "output_type": "display_data"
    },
    {
     "data": {
      "text/plain": "<Figure size 720x432 with 0 Axes>"
     },
     "metadata": {},
     "output_type": "display_data"
    },
    {
     "data": {
      "text/plain": "<Figure size 720x432 with 0 Axes>"
     },
     "metadata": {},
     "output_type": "display_data"
    },
    {
     "data": {
      "text/plain": "<Figure size 720x432 with 0 Axes>"
     },
     "metadata": {},
     "output_type": "display_data"
    },
    {
     "data": {
      "text/plain": "<Figure size 720x432 with 0 Axes>"
     },
     "metadata": {},
     "output_type": "display_data"
    },
    {
     "data": {
      "text/plain": "<Figure size 720x432 with 0 Axes>"
     },
     "metadata": {},
     "output_type": "display_data"
    },
    {
     "data": {
      "text/plain": "<Figure size 720x432 with 0 Axes>"
     },
     "metadata": {},
     "output_type": "display_data"
    },
    {
     "data": {
      "text/plain": "<Figure size 720x432 with 0 Axes>"
     },
     "metadata": {},
     "output_type": "display_data"
    },
    {
     "data": {
      "text/plain": "<Figure size 720x432 with 0 Axes>"
     },
     "metadata": {},
     "output_type": "display_data"
    },
    {
     "data": {
      "text/plain": "<Figure size 720x432 with 0 Axes>"
     },
     "metadata": {},
     "output_type": "display_data"
    },
    {
     "data": {
      "text/plain": "<Figure size 720x432 with 0 Axes>"
     },
     "metadata": {},
     "output_type": "display_data"
    },
    {
     "data": {
      "text/plain": "<Figure size 720x432 with 0 Axes>"
     },
     "metadata": {},
     "output_type": "display_data"
    },
    {
     "data": {
      "text/plain": "<Figure size 720x432 with 0 Axes>"
     },
     "metadata": {},
     "output_type": "display_data"
    },
    {
     "data": {
      "text/plain": "<Figure size 720x432 with 0 Axes>"
     },
     "metadata": {},
     "output_type": "display_data"
    },
    {
     "data": {
      "text/plain": "<Figure size 720x432 with 0 Axes>"
     },
     "metadata": {},
     "output_type": "display_data"
    },
    {
     "data": {
      "text/plain": "<Figure size 720x432 with 0 Axes>"
     },
     "metadata": {},
     "output_type": "display_data"
    },
    {
     "data": {
      "text/plain": "<Figure size 720x432 with 0 Axes>"
     },
     "metadata": {},
     "output_type": "display_data"
    },
    {
     "data": {
      "text/plain": "<Figure size 720x432 with 0 Axes>"
     },
     "metadata": {},
     "output_type": "display_data"
    },
    {
     "data": {
      "text/plain": "<Figure size 720x432 with 0 Axes>"
     },
     "metadata": {},
     "output_type": "display_data"
    },
    {
     "data": {
      "text/plain": "<Figure size 720x432 with 0 Axes>"
     },
     "metadata": {},
     "output_type": "display_data"
    },
    {
     "data": {
      "text/plain": "<Figure size 720x432 with 0 Axes>"
     },
     "metadata": {},
     "output_type": "display_data"
    },
    {
     "data": {
      "text/plain": "<Figure size 720x432 with 0 Axes>"
     },
     "metadata": {},
     "output_type": "display_data"
    },
    {
     "data": {
      "text/plain": "<Figure size 720x432 with 0 Axes>"
     },
     "metadata": {},
     "output_type": "display_data"
    },
    {
     "data": {
      "text/plain": "<Figure size 720x432 with 0 Axes>"
     },
     "metadata": {},
     "output_type": "display_data"
    },
    {
     "data": {
      "text/plain": "<Figure size 720x432 with 0 Axes>"
     },
     "metadata": {},
     "output_type": "display_data"
    },
    {
     "data": {
      "text/plain": "<Figure size 720x432 with 0 Axes>"
     },
     "metadata": {},
     "output_type": "display_data"
    },
    {
     "data": {
      "text/plain": "<Figure size 720x432 with 0 Axes>"
     },
     "metadata": {},
     "output_type": "display_data"
    },
    {
     "data": {
      "text/plain": "<Figure size 720x432 with 0 Axes>"
     },
     "metadata": {},
     "output_type": "display_data"
    },
    {
     "data": {
      "text/plain": "<Figure size 720x432 with 0 Axes>"
     },
     "metadata": {},
     "output_type": "display_data"
    },
    {
     "data": {
      "text/plain": "<Figure size 720x432 with 0 Axes>"
     },
     "metadata": {},
     "output_type": "display_data"
    }
   ],
   "source": [
    "# trainingDataset = getTrainingDataset(dataArray, fullPersonCountIntervalArray, previous=True)\n",
    "trainingDatasetList = getTrainingDataset(dataArrayList, fullPersonCountIntervalArrayList)"
   ],
   "metadata": {
    "collapsed": false
   }
  },
  {
   "cell_type": "markdown",
   "metadata": {},
   "source": [
    "Por último, guardamos el Dataframe generado en un csv para poder exportarlo."
   ]
  },
  {
   "cell_type": "code",
   "execution_count": 6,
   "metadata": {},
   "outputs": [],
   "source": [
    "trainingDatasetList.to_csv('docs/training-set.csv', sep=';', index=False, na_rep='NaN')"
   ]
  },
  {
   "cell_type": "code",
   "execution_count": 7,
   "outputs": [
    {
     "name": "stdout",
     "output_type": "stream",
     "text": [
      "    Timestamp Maximum number of MAC Maximum number of Pair MAC Number of NaN\n",
      "0  2022-06-30                    OK                         OK             0\n",
      "0  2022-07-01                    OK                         OK            78\n",
      "0  2022-07-04                    OK                         OK             0\n",
      "0  2022-07-05                    OK                         OK             0\n",
      "0  2022-07-06                    OK                         OK             0\n",
      "0  2022-07-07                    OK                         OK             0\n",
      "0  2022-07-11                    OK                         OK             0\n",
      "0  2022-07-12                    OK                         OK             0\n",
      "0  2022-07-13                    OK                         OK             0\n",
      "0  2022-07-14                    OK                         OK             0\n",
      "0  2022-07-15                    OK                         OK             0\n"
     ]
    },
    {
     "data": {
      "text/plain": "    Timestamp Maximum number of MAC Maximum number of Pair MAC Number of NaN\n0  2022-06-30                    OK                         OK             0\n0  2022-07-01                    OK                         OK            78\n0  2022-07-04                    OK                         OK             0\n0  2022-07-05                    OK                         OK             0\n0  2022-07-06                    OK                         OK             0\n0  2022-07-07                    OK                         OK             0\n0  2022-07-11                    OK                         OK             0\n0  2022-07-12                    OK                         OK             0\n0  2022-07-13                    OK                         OK             0\n0  2022-07-14                    OK                         OK             0\n0  2022-07-15                    OK                         OK             0",
      "text/html": "<div>\n<style scoped>\n    .dataframe tbody tr th:only-of-type {\n        vertical-align: middle;\n    }\n\n    .dataframe tbody tr th {\n        vertical-align: top;\n    }\n\n    .dataframe thead th {\n        text-align: right;\n    }\n</style>\n<table border=\"1\" class=\"dataframe\">\n  <thead>\n    <tr style=\"text-align: right;\">\n      <th></th>\n      <th>Timestamp</th>\n      <th>Maximum number of MAC</th>\n      <th>Maximum number of Pair MAC</th>\n      <th>Number of NaN</th>\n    </tr>\n  </thead>\n  <tbody>\n    <tr>\n      <th>0</th>\n      <td>2022-06-30</td>\n      <td>OK</td>\n      <td>OK</td>\n      <td>0</td>\n    </tr>\n    <tr>\n      <th>0</th>\n      <td>2022-07-01</td>\n      <td>OK</td>\n      <td>OK</td>\n      <td>78</td>\n    </tr>\n    <tr>\n      <th>0</th>\n      <td>2022-07-04</td>\n      <td>OK</td>\n      <td>OK</td>\n      <td>0</td>\n    </tr>\n    <tr>\n      <th>0</th>\n      <td>2022-07-05</td>\n      <td>OK</td>\n      <td>OK</td>\n      <td>0</td>\n    </tr>\n    <tr>\n      <th>0</th>\n      <td>2022-07-06</td>\n      <td>OK</td>\n      <td>OK</td>\n      <td>0</td>\n    </tr>\n    <tr>\n      <th>0</th>\n      <td>2022-07-07</td>\n      <td>OK</td>\n      <td>OK</td>\n      <td>0</td>\n    </tr>\n    <tr>\n      <th>0</th>\n      <td>2022-07-11</td>\n      <td>OK</td>\n      <td>OK</td>\n      <td>0</td>\n    </tr>\n    <tr>\n      <th>0</th>\n      <td>2022-07-12</td>\n      <td>OK</td>\n      <td>OK</td>\n      <td>0</td>\n    </tr>\n    <tr>\n      <th>0</th>\n      <td>2022-07-13</td>\n      <td>OK</td>\n      <td>OK</td>\n      <td>0</td>\n    </tr>\n    <tr>\n      <th>0</th>\n      <td>2022-07-14</td>\n      <td>OK</td>\n      <td>OK</td>\n      <td>0</td>\n    </tr>\n    <tr>\n      <th>0</th>\n      <td>2022-07-15</td>\n      <td>OK</td>\n      <td>OK</td>\n      <td>0</td>\n    </tr>\n  </tbody>\n</table>\n</div>"
     },
     "execution_count": 7,
     "metadata": {},
     "output_type": "execute_result"
    }
   ],
   "source": [
    "trainingDatasetList = pd.read_csv('docs/training-set.csv', sep=';')\n",
    "# checkDataframe = checkTrainingSet(trainingSet, dates)\n",
    "checkTrainingSet(trainingDatasetList, datesList)\n"
   ],
   "metadata": {
    "collapsed": false
   }
  }
 ],
 "metadata": {
  "kernelspec": {
   "display_name": "Python 3 (ipykernel)",
   "language": "python",
   "name": "python3"
  },
  "language_info": {
   "codemirror_mode": {
    "name": "ipython",
    "version": 3
   },
   "file_extension": ".py",
   "mimetype": "text/x-python",
   "name": "python",
   "nbconvert_exporter": "python",
   "pygments_lexer": "ipython3",
   "version": "3.10.4"
  }
 },
 "nbformat": 4,
 "nbformat_minor": 1
}
